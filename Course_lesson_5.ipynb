{
 "cells": [
  {
   "cell_type": "markdown",
   "id": "90aa8a74",
   "metadata": {},
   "source": [
    "<h3 align='center'>Таблиця множення</h3>\n",
    "На вхід до програми подаються два натуральні числа nn і mm — кількість рядків і стовпців у матриці. Створіть матрицю mult розміром n n×m та заповніть її таблицею множення за формулою mult[i][j] = i * j.\n",
    "\n",
    "<b>Формат вхідних даних</b><br>\n",
    "На вхід до програми на різних рядках подаються два числа n і m — кількість рядків і стовпців у матриці.\n",
    "\n",
    "<b>Формат вихідних даних</b><br>\n",
    "Програма повинна вивести таблицю множення, відводячи на виведення кожного числа рівно 3 символи (для цього використовуйте рядковий метод ljust())."
   ]
  },
  {
   "cell_type": "code",
   "execution_count": 1,
   "id": "0d02ce42",
   "metadata": {},
   "outputs": [
    {
     "name": "stdout",
     "output_type": "stream",
     "text": [
      "4\n",
      "6\n",
      "0 0 0 0 0 0\n",
      "0 1 2 3 4 5\n",
      "0 2 4 6 8 10\n",
      "0 3 6 9 12 15\n"
     ]
    }
   ],
   "source": [
    "# put your python code here\n",
    "n = int(input())\n",
    "m = int(input())\n",
    "matrix = [[0]*m for _ in range(n)] \n",
    "for i in range(n):\n",
    "    for j in range(m):\n",
    "        matrix[i][j] = i * j\n",
    "for i in range(n):        \n",
    "    print(*matrix[i])"
   ]
  },
  {
   "cell_type": "code",
   "execution_count": null,
   "id": "201cc98e",
   "metadata": {},
   "outputs": [],
   "source": []
  }
 ],
 "metadata": {
  "kernelspec": {
   "display_name": "Python 3 (ipykernel)",
   "language": "python",
   "name": "python3"
  },
  "language_info": {
   "codemirror_mode": {
    "name": "ipython",
    "version": 3
   },
   "file_extension": ".py",
   "mimetype": "text/x-python",
   "name": "python",
   "nbconvert_exporter": "python",
   "pygments_lexer": "ipython3",
   "version": "3.10.4"
  }
 },
 "nbformat": 4,
 "nbformat_minor": 5
}
