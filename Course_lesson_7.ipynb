{
 "cells": [
  {
   "cell_type": "markdown",
   "id": "082cf376",
   "metadata": {},
   "source": [
    "<h3 align='center'>Додавання матриць</h3>\n",
    "Напишіть програму для обчислення суми двох матриць.\n",
    "\n",
    "<b>Формат вхідних даних</b><br>\n",
    "На вхід програмі подаються два натуральні числа nn і mm — кількість рядків і стовпців у матрицях, потім елементи першої матриці, потім порожній рядок, далі йдуть елементи другої матриці.\n",
    "\n",
    "<b>Формат вихідних даних</b><br>\n",
    "Програма повинна вивести результуючу матрицю, розділяючи елементи символом пропуску."
   ]
  },
  {
   "cell_type": "code",
   "execution_count": 2,
   "id": "d0009ff3",
   "metadata": {},
   "outputs": [
    {
     "name": "stdout",
     "output_type": "stream",
     "text": [
      "2 4\n",
      "1 5 2 4\n",
      "7 1 2 1\n",
      "\n",
      "1 2 2 2\n",
      "1 5 6 3\n",
      "\n",
      "2 7 4 6\n",
      "8 6 8 4\n"
     ]
    }
   ],
   "source": [
    "# put your python code here\n",
    "n = list(map(int, input().split()))\n",
    "m = n[1]\n",
    "n = n[0]\n",
    "matrix1 = [list(map(int, input().split())) for _ in range(n)]\n",
    "pusto = input()\n",
    "matrix2 = [list(map(int, input().split())) for _ in range(n)]\n",
    "matrix3 = [[0]*m for _ in range(n)]\n",
    "\n",
    "for i in range(n):\n",
    "    for j in range(m):\n",
    "        matrix3[i][j] = matrix1[i][j] + matrix2[i][j]\n",
    "        \n",
    "print('')\n",
    "for i in range(n):\n",
    "    print(*matrix3[i])"
   ]
  },
  {
   "cell_type": "markdown",
   "id": "b27381b9",
   "metadata": {},
   "source": [
    "<h3 align='center'>Розмноження матриць 🌶️</h3>\n",
    "Напишіть програму, яка перемножує дві матриці.\n",
    "\n",
    "<b>Формат вхідних даних</b><br>\n",
    "На вхід до програми подаються два натуральні числа nn і mm — кількість рядків і стовпців у першій матриці, потім елементи першої матриці, потім порожній рядок. Далі йдуть числа mm і kk - кількість рядків і стовпців другої матриці, потім елементи другої матриці.\n",
    "\n",
    "<b>Формат вихідних даних</b><br>\n",
    "Програма повинна вивести результуючу матрицю, розділяючи елементи символом пропуску."
   ]
  },
  {
   "cell_type": "code",
   "execution_count": 5,
   "id": "bf660cf0",
   "metadata": {},
   "outputs": [
    {
     "name": "stdout",
     "output_type": "stream",
     "text": [
      "2 2\n",
      "3 4\n",
      "5 1\n",
      "\n",
      "2 2\n",
      "4 3\n",
      "2 6\n",
      "\n",
      "20 33\n",
      "22 21\n"
     ]
    }
   ],
   "source": [
    "n, m = [int(i) for i in input().split()]\n",
    "matrixA = [[int(i) for i in input().split()] for _ in range(n)]\n",
    "input()\n",
    "m, k = [int(i) for i in input().split()]\n",
    "matrixB = [[int(i) for i in input().split()] for _ in range(m)]\n",
    "matrixC = [[0] * k for _ in range(n)]\n",
    "\n",
    "for i in range(n):\n",
    "    for j in range(k):\n",
    "        for q in range(m):\n",
    "            matrixC[i][j] += matrixA[i][q] * matrixB[q][j]\n",
    "print('')\n",
    "for row in matrixC:\n",
    "    print(*row)"
   ]
  },
  {
   "cell_type": "markdown",
   "id": "352b2145",
   "metadata": {},
   "source": [
    "<h3 align='center'>Зведення матриці в ступінь 🌶️</h3>\n",
    "Напишіть програму, яка зводить квадратну матрицю в m-ий ступінь.\n",
    "\n",
    "<b>Формат вхідних даних</b><br>\n",
    "На вхід до програми подається натуральне число n — кількість рядків і стовпців у матриці, потім елементи матриці, потім натуральне число m.\n",
    "\n",
    "<b>Формат вихідних даних</b><br>\n",
    "Програма повинна вивести результуючу матрицю, розділяючи елементи символом пропуску."
   ]
  },
  {
   "cell_type": "code",
   "execution_count": 7,
   "id": "d90a9057",
   "metadata": {},
   "outputs": [
    {
     "name": "stdout",
     "output_type": "stream",
     "text": [
      "3\n",
      "1 2 3\n",
      "4 5 6\n",
      "7 8 9\n",
      "2\n",
      "\n",
      "30 36 42\n",
      "66 81 96\n",
      "102 126 150\n"
     ]
    }
   ],
   "source": [
    "n = int(input())\n",
    "m1 = [[int(j) for j in input().split()] for i in range(n)]\n",
    "m = int(input())\n",
    "res = m1\n",
    "\n",
    "for l in range(m-1):\n",
    "    res = [[sum([res[i][p] * m1[p][j] for p in range(n)]) for j in range(n)] for i in range(n)]\n",
    "print('')\n",
    "for r in res:\n",
    "    print(*r)"
   ]
  }
 ],
 "metadata": {
  "kernelspec": {
   "display_name": "Python 3 (ipykernel)",
   "language": "python",
   "name": "python3"
  },
  "language_info": {
   "codemirror_mode": {
    "name": "ipython",
    "version": 3
   },
   "file_extension": ".py",
   "mimetype": "text/x-python",
   "name": "python",
   "nbconvert_exporter": "python",
   "pygments_lexer": "ipython3",
   "version": "3.10.4"
  }
 },
 "nbformat": 4,
 "nbformat_minor": 5
}
