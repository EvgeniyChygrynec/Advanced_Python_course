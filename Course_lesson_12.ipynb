{
 "cells": [
  {
   "cell_type": "markdown",
   "id": "2599c187",
   "metadata": {},
   "source": [
    "<h3 align='center'>Словник програміста</h3>\n",
    "Програмісти, як ви вже знаєте, постійно навчаються, а у спілкуванні між собою використовують дуже специфічну мову. Щоб систематизувати ваш професійний лексикон, що поповнюється, ми придумали це завдання. Напишіть програму створення невеликого словника сленгових программерських виразів, щоб потім по запиту повертала значення з цього словника.\n",
    "\n",
    "<b>Формат вхідних даних</b><br>\n",
    "У першому рядку встановлено одне ціле число nn — кількість слів у словнику. У наступних nn рядках записані слова та їх визначення, розділені двокрапкою та символом пропуску. У наступному рядку записано ціле число mm – кількість пошукових слів, чиє визначення потрібно вивести. У наступних mm рядках записані самі слова, по одному на рядку.\n",
    "\n",
    "<b>Формат вихідних даних</b><br>\n",
    "Для кожного слова, незалежно від регістру символів, якщо воно є у словнику, необхідно вивести його визначення. Якщо слова у словнику немає, програма має вивести \"Не знайдено\", без лапок.\n",
    "\n",
    "<b>Примітка 1</b>. Міні-словник для розробників-початківців можна подивитися тут.\n",
    "\n",
    "<b>Примітка 2</b>. Гарантується, що у визначеному слові або фразі відсутня двокрапка (:), за якою йде пробіл."
   ]
  },
  {
   "cell_type": "code",
   "execution_count": 1,
   "id": "86a2d9da",
   "metadata": {},
   "outputs": [
    {
     "name": "stdout",
     "output_type": "stream",
     "text": [
      "5\n",
      "Змея: язык программирования Python\n",
      "Баг: от англ. bug — жучок, клоп, ошибка в программе\n",
      "Конфа: конференция\n",
      "Костыль: код, который нужен, чтобы исправить несовершенство ранее написанного кода\n",
      "Бета: бета-версия, приложение на стадии публичного тестирования\n",
      "3\n",
      "Змея\n",
      "язык программирования Python\n",
      "Жаба\n",
      "Не найдено\n",
      "костыль\n",
      "код, который нужен, чтобы исправить несовершенство ранее написанного кода\n"
     ]
    }
   ],
   "source": [
    "# put your python code here\n",
    "n = int(input())\n",
    "result = {}\n",
    "for _ in range(n):\n",
    "    text = input().split(':')\n",
    "    result[text[0].lower()] = text[1]\n",
    "n = int(input())\n",
    "for _ in range(n):\n",
    "    txt = input()\n",
    "    if txt.lower() not in result.keys():\n",
    "        print('Не найдено')\n",
    "    else:\n",
    "        print(result[txt.lower()].lstrip())"
   ]
  },
  {
   "cell_type": "markdown",
   "id": "f5d72543",
   "metadata": {},
   "source": [
    "<h3 align='center'>Анаграми 1</h3>\n",
    "Анаграма – слово (словосполучення), утворене шляхом перестановки букв, що становлять інше слово (або словосполучення). Наприклад, англійські слова evil та live – це анаграми.\n",
    "\n",
    "На вхід до програми подаються два слова. Напишіть програму, яка визначає, чи вони є анаграмами.\n",
    "\n",
    "<b>Формат вхідних даних</b><br>\n",
    "На вхід до програми подаються два слова, кожне на окремому рядку.\n",
    "\n",
    "<b>Формат вихідних даних</b><br>\n",
    "Програма повинна вивести YES, якщо слова є анаграмами і NO в іншому випадку."
   ]
  },
  {
   "cell_type": "code",
   "execution_count": 2,
   "id": "7d3aed29",
   "metadata": {},
   "outputs": [
    {
     "name": "stdout",
     "output_type": "stream",
     "text": [
      "thing\n",
      "htgni\n",
      "YES\n"
     ]
    }
   ],
   "source": [
    "# put your python code here\n",
    "n = input()\n",
    "m = input()\n",
    "if sorted(n) == sorted(m): print('YES') \n",
    "else: print('NO')"
   ]
  },
  {
   "cell_type": "markdown",
   "id": "f49a9682",
   "metadata": {},
   "source": [
    "<h3 align='center'>Анаграми 2</h3>\n",
    "На вхід до програми подаються дві пропозиції. Напишіть програму, яка визначає, чи є вони анаграмами чи ні. Ваша програма повинна ігнорувати регістр символів, розділові знаки та пробіли.\n",
    "\n",
    "<b>Формат вхідних даних</b><br>\n",
    "На вхід до програми подаються дві пропозиції, кожна на окремому рядку.\n",
    "\n",
    "<b>Формат вихідних даних</b><br>\n",
    "Програма повинна вивести YES, якщо пропозиції – анаграми та NO в іншому випадку.\n",
    "\n",
    "<b>Примітка</b>. Крім слів у тексті можуть бути пробіли і розділові знаки .,!?:;-. Інших символів у тексті немає."
   ]
  },
  {
   "cell_type": "code",
   "execution_count": 3,
   "id": "cdf1b406",
   "metadata": {},
   "outputs": [
    {
     "name": "stdout",
     "output_type": "stream",
     "text": [
      "Вижу! зверей\n",
      "Живу резвей?\n",
      "YES\n"
     ]
    }
   ],
   "source": [
    "# put your python code here\n",
    "import re\n",
    "n = re.sub(r'[.,;:-?!]', '', input().replace(' ', '').lower())\n",
    "m = re.sub(r'[.,;:-?!]', '', input().replace(' ', '').lower())\n",
    "if sorted(n) == sorted(m): print('YES') \n",
    "else: print('NO')"
   ]
  },
  {
   "cell_type": "markdown",
   "id": "1ae7144b",
   "metadata": {},
   "source": [
    "<h3 align='center'>Словник синонімів</h3>\n",
    "Вам надано словник, що складається з пар слів-синонімів. Повторюваних слів у словнику немає. Напишіть програму, яка для одного слова визначає його синонім.\n",
    "\n",
    "<b>Формат вхідних даних</b><br>\n",
    "На вхід до програми подається кількість пар синонімів nn. Далі слідує nn рядків, кожен рядок містить два слова-синоніма. Після цього слід одне слово, синонім якого треба знайти.\n",
    "\n",
    "<b>Формат вихідних даних</b><br>\n",
    "Програма має вивести одне слово, введене синонім.\n",
    "\n",
    "<b>Примітка 1</b>. Гарантується, що синонім уведеного слова існує у словнику.\n",
    "\n",
    "<b>Примітка 2</b>. Усі слова у словнику починаються з великої літери."
   ]
  },
  {
   "cell_type": "code",
   "execution_count": 5,
   "id": "f8f7e346",
   "metadata": {},
   "outputs": [
    {
     "name": "stdout",
     "output_type": "stream",
     "text": [
      "4\n",
      "Awful Terrible\n",
      "Beautiful Pretty\n",
      "Great Excellent\n",
      "Generous Bountiful\n",
      "Pretty\n",
      "Beautiful\n"
     ]
    }
   ],
   "source": [
    "# put your python code here\n",
    "n = int(input())\n",
    "result = {}\n",
    "for _ in range(n):\n",
    "    text = input().split(' ')\n",
    "    result[text[0]] = text[1]\n",
    "    result[text[1]] = text[0]\n",
    "txt = input()\n",
    "for key, value in result.items():\n",
    "    if key == txt:\n",
    "        print(value)"
   ]
  },
  {
   "cell_type": "code",
   "execution_count": null,
   "id": "f878cdf2",
   "metadata": {},
   "outputs": [],
   "source": []
  },
  {
   "cell_type": "code",
   "execution_count": null,
   "id": "814ec03a",
   "metadata": {},
   "outputs": [],
   "source": []
  },
  {
   "cell_type": "code",
   "execution_count": null,
   "id": "58897c3b",
   "metadata": {},
   "outputs": [],
   "source": []
  },
  {
   "cell_type": "code",
   "execution_count": null,
   "id": "8557767b",
   "metadata": {},
   "outputs": [],
   "source": []
  }
 ],
 "metadata": {
  "kernelspec": {
   "display_name": "Python 3 (ipykernel)",
   "language": "python",
   "name": "python3"
  },
  "language_info": {
   "codemirror_mode": {
    "name": "ipython",
    "version": 3
   },
   "file_extension": ".py",
   "mimetype": "text/x-python",
   "name": "python",
   "nbconvert_exporter": "python",
   "pygments_lexer": "ipython3",
   "version": "3.10.4"
  }
 },
 "nbformat": 4,
 "nbformat_minor": 5
}
