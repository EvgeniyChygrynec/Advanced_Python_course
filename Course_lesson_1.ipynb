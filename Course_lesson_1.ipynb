{
 "cells": [
  {
   "cell_type": "markdown",
   "id": "e8b0baf1",
   "metadata": {},
   "source": [
    "<h3 align='center'>Standard American Convention</h3>\n",
    "На вхід до програми подається натуральне число. Напишіть програму, яка вставляє в задане число ком у відповідності зі стандартною американською угодою про ком у великих числах.\n",
    "\n",
    "<b>Формат вхідних даних</b><br>\n",
    "На вхід до програми подається натуральне число n, (0 < n < 10<sup>100</sup>)\n",
    "\n",
    "\n",
    "<b>Формат вихідних даних</b><br>\n",
    "Програма повинна вивести число із комами відповідно до умови завдання."
   ]
  },
  {
   "cell_type": "code",
   "execution_count": 6,
   "id": "b3c43c3b",
   "metadata": {},
   "outputs": [
    {
     "name": "stdout",
     "output_type": "stream",
     "text": [
      "1000000\n",
      "\n",
      "1,000,000\n"
     ]
    }
   ],
   "source": [
    "# put your python code here\n",
    "n = int(input())\n",
    "print('')\n",
    "print('{:,}'.format(n))"
   ]
  },
  {
   "cell_type": "markdown",
   "id": "ef411fef",
   "metadata": {},
   "source": [
    "<h3 align='center'>Завдання Йосипа Флавія 🌶️🌶️</h3>\n",
    "nn людина, пронумерована числами від 11 до nn, стоять у колі. Вони починають вважатися, кожен kk-й за рахунком людина вибуває з кола, після чого рахунок триває з наступного за ним людини. Напишіть програму, яка визначає номер людини, яка залишиться в колі останнім.\n",
    "\n",
    "<b>Формат вхідних даних</b><br>\n",
    "На вхід до програми подаються два числа nn і kk, записані на окремих рядках.\n",
    "\n",
    "<b>Формат вихідних даних</b><br>\n",
    "Програма має вивести одне число – номер людини, яка залишиться у колі останнім."
   ]
  },
  {
   "cell_type": "code",
   "execution_count": 5,
   "id": "a4e1f73b",
   "metadata": {},
   "outputs": [
    {
     "name": "stdout",
     "output_type": "stream",
     "text": [
      "2\n",
      "1\n",
      "\n",
      "2\n"
     ]
    }
   ],
   "source": [
    "# put your python code here\n",
    "n = int(input())\n",
    "k = int(input())\n",
    "m = 0\n",
    "for i in range(1, n+1):\n",
    "    m = (m + k) % i\n",
    "print(f'\\n{m+1}')"
   ]
  }
 ],
 "metadata": {
  "kernelspec": {
   "display_name": "Python 3 (ipykernel)",
   "language": "python",
   "name": "python3"
  },
  "language_info": {
   "codemirror_mode": {
    "name": "ipython",
    "version": 3
   },
   "file_extension": ".py",
   "mimetype": "text/x-python",
   "name": "python",
   "nbconvert_exporter": "python",
   "pygments_lexer": "ipython3",
   "version": "3.10.4"
  }
 },
 "nbformat": 4,
 "nbformat_minor": 5
}
